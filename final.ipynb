{
 "cells": [
  {
   "cell_type": "code",
   "execution_count": 2,
   "metadata": {},
   "outputs": [
    {
     "name": "stdout",
     "output_type": "stream",
     "text": [
      "3.6.3 (default, Oct  4 2017, 06:09:15) \n",
      "[GCC 4.2.1 Compatible Apple LLVM 9.0.0 (clang-900.0.37)]\n"
     ]
    }
   ],
   "source": [
    "import sys\n",
    "\n",
    "print (sys.version)\n",
    "\n",
    "\n"
   ]
  },
  {
   "cell_type": "code",
   "execution_count": 130,
   "metadata": {},
   "outputs": [
    {
     "name": "stdout",
     "output_type": "stream",
     "text": [
      "[nltk_data] Downloading package wordnet to /Users/socure/nltk_data...\n",
      "[nltk_data]   Package wordnet is already up-to-date!\n",
      "1047.txt\n",
      "row #1\n",
      "{'ablahl': 0, 'blah': 1, 'cow': 2, 'melt': 4, 'lament': 3}\n",
      "row #2\n",
      "{'ablahl': 0, 'blah': 1, 'cow': 3, 'melt': 6, 'lament': 5, 'blha': 2, 'drive': 4, 'say': 7}\n",
      "1053.txt\n",
      "row #1\n",
      "{'no': 0}\n",
      "1721.txt\n",
      "1735.txt\n"
     ]
    }
   ],
   "source": [
    "import os\n",
    "import pandas as pd\n",
    "\n",
    "from textblob import TextBlob\n",
    "\n",
    "from nltk.stem import PorterStemmer\n",
    "from nltk.tokenize import sent_tokenize, word_tokenize\n",
    "import nltk\n",
    "nltk.download('wordnet')\n",
    "from nltk.stem import WordNetLemmatizer\n",
    "wordnet_lemmatizer = WordNetLemmatizer()\n",
    "import string\n",
    "\n",
    "from sklearn.feature_extraction.text import CountVectorizer\n",
    "\n",
    "\n",
    "stop_words = ['me','we', 'our', 'ours', 'myself','ourselves','i', 'you', 'your','here', 'yours',\n",
    "'yourself', 'yourselves', 'he', 'him', 'his', 'himself', 'she', 'her', 'hers',\n",
    "'herself', 'it', 'being', 'its', 'itself', 'they', 'them', 'their', 'theirs', 'themselves',\n",
    "'what', 'which', 'who', 'whom', 'this', 'that', 'these', 'same', 'those', 'am', 'is', 'are',\n",
    "'was', 'were', 'be',  'very','been', 'have', 'has', 'had', 'having', 'do', 'does',\n",
    "'did', 'doing', 'a', 'an', 'the', 'and', 'but', 'if', 'or', 'as', 'until', 'because',\n",
    "'while', 'of', 'at', 'by', 'for', 'with', 'about', 'against', 'between', 'into',\n",
    "'through', 'during', 'before', 'after', 'above', 'below', 'to', 'from', 'up', 'down',\n",
    "'in', 'out', 'on', 'off', 'over', 'again', 'further', 'then', 'once', \n",
    "'there', 'when', 'where', 'why','should','too', 'how', 'all', 'any', 'both', 'under', 'each', 'few', 'more',\n",
    "'most', 'other', 'some', 'such', 'only', 'own', 'so','my',\n",
    "'than',  's', 't', 'can', 'will', 'just', 'don',  'now']\n",
    "\n",
    "\n",
    "ps = PorterStemmer()\n",
    "vectorizer = CountVectorizer()\n",
    "\n",
    "\n",
    "directory = os.fsencode(\"./descriptions_train\")\n",
    "\n",
    "for filename in os.listdir(directory):\n",
    "    \n",
    "    with open(os.path.join(directory, filename)) as file:\n",
    "        print(os.fsdecode(filename))\n",
    "        \n",
    "        i=1\n",
    "        sentence = \"\"\n",
    "        sentences = []\n",
    "        \n",
    "        for row in file:\n",
    "            \n",
    "            print(\"row #\"+str(i))\n",
    "            \n",
    "            lower = str.lower(row)\n",
    "\n",
    "            query_words = lower.split()\n",
    "            result_words  = [word for word in query_words if word not in stop_words]\n",
    "            \n",
    "            translator=str.maketrans('','',string.punctuation)\n",
    "            \n",
    "            for individual_word in result_words:\n",
    "                \n",
    "                no_punc_word = individual_word.translate(translator)\n",
    "                \n",
    "                if no_punc_word.endswith('ing'):\n",
    "                    lemmatized_word = ps.stem(no_punc_word) \n",
    "                    ### or alternatively the ... wordnet_lemmatizer.lemmatize(individual_word,pos='v')\n",
    "                else:\n",
    "                    lemmatized_word = ps.stem(no_punc_word)\n",
    "                                    \n",
    "                sentence = sentence + \" \" + lemmatized_word\n",
    "                            \n",
    "            sentences.append(sentence)\n",
    "            i=i+1\n",
    "            vector = vectorizer.fit(sentences)\n",
    "            #print(vector)\n",
    "            print(vectorizer.vocabulary_)\n",
    "        #print(sentences)\n",
    "        \n",
    "            \n",
    "            \n",
    "            "
   ]
  },
  {
   "cell_type": "code",
   "execution_count": null,
   "metadata": {},
   "outputs": [],
   "source": []
  },
  {
   "cell_type": "code",
   "execution_count": null,
   "metadata": {},
   "outputs": [],
   "source": []
  },
  {
   "cell_type": "code",
   "execution_count": null,
   "metadata": {},
   "outputs": [],
   "source": []
  },
  {
   "cell_type": "code",
   "execution_count": null,
   "metadata": {},
   "outputs": [],
   "source": []
  }
 ],
 "metadata": {
  "kernelspec": {
   "display_name": "Python 3",
   "language": "python",
   "name": "python3"
  },
  "language_info": {
   "codemirror_mode": {
    "name": "ipython",
    "version": 3
   },
   "file_extension": ".py",
   "mimetype": "text/x-python",
   "name": "python",
   "nbconvert_exporter": "python",
   "pygments_lexer": "ipython3",
   "version": "3.6.3"
  }
 },
 "nbformat": 4,
 "nbformat_minor": 2
}
